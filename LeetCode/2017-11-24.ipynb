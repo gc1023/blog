{
 "cells": [
  {
   "cell_type": "markdown",
   "metadata": {},
   "source": [
    "## 1 - Two Sum\n",
    "\n",
    "---\n",
    "\n",
    "https://leetcode.com/problems/two-sum/description/\n",
    "\n",
    "Given an array of integers, return indices of the two numbers such that they add up to a specific target.\n",
    "\n",
    "You may assume that each input would have exactly one solution, and you may not use the same element twice.\n",
    "\n",
    "\n",
    "Example:\n",
    "Given nums = [2, 7, 11, 15], target = 9,\n",
    "\n",
    "Because nums[0] + nums[1] = 2 + 7 = 9,\n",
    "return [0, 1]."
   ]
  },
  {
   "cell_type": "code",
   "execution_count": 38,
   "metadata": {},
   "outputs": [],
   "source": [
    "def twoSum(nums, target, use_solution='1'):\n",
    "    \"\"\"\n",
    "    :type nums: List[int]\n",
    "    :type target: int\n",
    "    :rtype: List[int]\n",
    "    \"\"\"\n",
    "    use = 'solution 2'\n",
    "    \n",
    "    # solution 1\n",
    "    if use_solution == '1':\n",
    "        length = len(nums)\n",
    "        for i in range(length-1):\n",
    "            for j in range(i+1, length):\n",
    "                product = nums[i] * nums[j]\n",
    "                if product == target:\n",
    "                    return [i+1, j+1]\n",
    "                \n",
    "    # solution 2\n",
    "    elif use_solution == '2':\n",
    "        for x1 in nums:\n",
    "            x2 = target / x1\n",
    "            if x2 in nums:\n",
    "                i = nums.index(x1) + 1\n",
    "                j = nums.index(x2) + 1\n",
    "                return [i, j] if i<j else [j, i]"
   ]
  },
  {
   "cell_type": "code",
   "execution_count": 41,
   "metadata": {},
   "outputs": [
    {
     "name": "stdout",
     "output_type": "stream",
     "text": [
      "[1, 3]\n"
     ]
    }
   ],
   "source": [
    "# test case\n",
    "nums = [3, 2, 4, 6, 7, 8]\n",
    "target = 12\n",
    "print(twoSum(nums, target, use_solution='2'))"
   ]
  },
  {
   "cell_type": "markdown",
   "metadata": {},
   "source": [
    "expect results: [1, 2]"
   ]
  },
  {
   "cell_type": "markdown",
   "metadata": {},
   "source": [
    "## 2 - Add Two Numbers\n",
    "\n",
    "---\n",
    "\n",
    "https://leetcode.com/problems/add-two-numbers/description/\n",
    "\n",
    "You are given two non-empty linked lists representing two non-negative integers. The digits are stored in reverse order and each of their nodes contain a single digit. Add the two numbers and return it as a linked list.\n",
    "\n",
    "You may assume the two numbers do not contain any leading zero, except the number 0 itself.\n",
    "\n",
    "Input: (2 -> 4 -> 3) + (5 -> 6 -> 4)\n",
    "Output: 7 -> 0 -> 8"
   ]
  }
 ],
 "metadata": {
  "kernelspec": {
   "display_name": "Python 3",
   "language": "python",
   "name": "python3"
  },
  "language_info": {
   "codemirror_mode": {
    "name": "ipython",
    "version": 3
   },
   "file_extension": ".py",
   "mimetype": "text/x-python",
   "name": "python",
   "nbconvert_exporter": "python",
   "pygments_lexer": "ipython3",
   "version": "3.6.1"
  }
 },
 "nbformat": 4,
 "nbformat_minor": 2
}
