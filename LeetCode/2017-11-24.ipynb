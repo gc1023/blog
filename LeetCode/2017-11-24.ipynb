{
 "cells": [
  {
   "cell_type": "markdown",
   "metadata": {},
   "source": [
    "## 1 - Two Sum\n",
    "\n",
    "---\n",
    "\n",
    "https://leetcode.com/problems/two-sum/description/\n",
    "\n",
    "Given an array of integers, return indices of the two numbers such that they add up to a specific target.\n",
    "\n",
    "You may assume that each input would have exactly one solution, and you may not use the same element twice.\n",
    "\n",
    "\n",
    "Example:\n",
    "Given nums = [2, 7, 11, 15], target = 9,\n",
    "\n",
    "Because nums[0] + nums[1] = 2 + 7 = 9,\n",
    "return [0, 1]."
   ]
  },
  {
   "cell_type": "code",
   "execution_count": 38,
   "metadata": {
    "collapsed": true
   },
   "outputs": [],
   "source": [
    "def twoSum(nums, target, use_solution='1'):\n",
    "    \"\"\"\n",
    "    :type nums: List[int]\n",
    "    :type target: int\n",
    "    :rtype: List[int]\n",
    "    \"\"\"\n",
    "    use = 'solution 2'\n",
    "    \n",
    "    # solution 1\n",
    "    if use_solution == '1':\n",
    "        length = len(nums)\n",
    "        for i in range(length-1):\n",
    "            for j in range(i+1, length):\n",
    "                product = nums[i] * nums[j]\n",
    "                if product == target:\n",
    "                    return [i+1, j+1]\n",
    "                \n",
    "    # solution 2\n",
    "    elif use_solution == '2':\n",
    "        for x1 in nums:\n",
    "            x2 = target / x1\n",
    "            if x2 in nums:\n",
    "                i = nums.index(x1) + 1\n",
    "                j = nums.index(x2) + 1\n",
    "                return [i, j] if i<j else [j, i]"
   ]
  },
  {
   "cell_type": "code",
   "execution_count": 41,
   "metadata": {},
   "outputs": [
    {
     "name": "stdout",
     "output_type": "stream",
     "text": [
      "[1, 3]\n"
     ]
    }
   ],
   "source": [
    "# test case\n",
    "nums = [3, 2, 4, 6, 7, 8]\n",
    "target = 12\n",
    "print(twoSum(nums, target, use_solution='2'))"
   ]
  },
  {
   "cell_type": "markdown",
   "metadata": {},
   "source": [
    "expect results: [1, 2]"
   ]
  },
  {
   "cell_type": "markdown",
   "metadata": {},
   "source": [
    "## 2 - Add Two Numbers\n",
    "\n",
    "---\n",
    "\n",
    "https://leetcode.com/problems/add-two-numbers/description/\n",
    "\n",
    "You are given two non-empty linked lists representing two non-negative integers. The digits are stored in reverse order and each of their nodes contain a single digit. Add the two numbers and return it as a linked list.\n",
    "\n",
    "You may assume the two numbers do not contain any leading zero, except the number 0 itself.\n",
    "\n",
    "Input: (2 -> 4 -> 3) + (5 -> 6 -> 4)\n",
    "Output: 7 -> 0 -> 8"
   ]
  },
  {
   "cell_type": "markdown",
   "metadata": {},
   "source": [
    "## 88 - Merge Sorted Array\n",
    "\n",
    "---\n",
    "\n",
    "https://leetcode.com/problems/merge-sorted-array/description/\n",
    "\n",
    "Given two sorted integer arrays nums1 and nums2, merge nums2 into nums1 as one sorted array.\n",
    "\n",
    "Note:\n",
    "You may assume that nums1 has enough space (size that is greater or equal to m + n) to hold additional elements from nums2. The number of elements initialized in nums1 and nums2 are m and n respectively.\n"
   ]
  },
  {
   "cell_type": "code",
   "execution_count": 36,
   "metadata": {
    "collapsed": true
   },
   "outputs": [],
   "source": [
    "def merge(nums1, m, nums2, n):\n",
    "    \"\"\"\n",
    "    :type nums1: List[int]\n",
    "    :type m: int\n",
    "    :type nums2: List[int]\n",
    "    :type n: int\n",
    "    :rtype: void Do not return anything, modify nums1 in-place instead.\n",
    "    \"\"\"\n",
    "    # 求解思路：1)取数; 2)extend; 3) sorted\n",
    "    \n",
    "    if not len(nums1[:m]) == 0:\n",
    "        nums1 = list(nums1[:m])\n",
    "    else:\n",
    "        nums1 = []\n",
    "        \n",
    "    if not len(nums2[:n]) == 0:\n",
    "        nums2 = list(nums2[:n])\n",
    "    else:\n",
    "        nums2 = []\n",
    "        \n",
    "    nums1.extend(nums2)\n",
    "    nums1 = sorted(nums1)\n",
    "    \n",
    "    return nums1"
   ]
  },
  {
   "cell_type": "code",
   "execution_count": 39,
   "metadata": {},
   "outputs": [
    {
     "data": {
      "text/plain": [
       "[1, 2]"
      ]
     },
     "execution_count": 39,
     "metadata": {},
     "output_type": "execute_result"
    }
   ],
   "source": [
    "# nums1, m, nums2, n = [1], 1, [], 0\n",
    "nums1, m, nums2, n = [0], 0, [1,2,3,4], 2\n",
    "\n",
    "merge(nums1, m, nums2, n)"
   ]
  },
  {
   "cell_type": "markdown",
   "metadata": {},
   "source": [
    "## 26 -  Remove Duplicates from Sorted Array\n",
    "\n",
    "---\n",
    "\n",
    "https://leetcode.com/problems/remove-duplicates-from-sorted-array/description\n",
    "\n",
    "Given a sorted array, remove the duplicates in-place such that each element appear only once and return the new length.\n",
    "\n",
    "Do not allocate extra space for another array, you must do this by modifying the input array in-place with O(1) extra memory.\n",
    "\n",
    "Example:\n",
    "\n",
    "Given nums = [1,1,2],\n",
    "\n",
    "Your function should return length = 2, with the first two elements of nums being 1 and 2 respectively.\n",
    "It doesn't matter what you leave beyond the new length."
   ]
  },
  {
   "cell_type": "code",
   "execution_count": 2,
   "metadata": {
    "collapsed": true
   },
   "outputs": [],
   "source": [
    "def removeDuplicates(nums):\n",
    "    \"\"\"\n",
    "    :type nums: List[int]\n",
    "    :rtype: int\n",
    "    \"\"\"\n",
    "    if not nums:\n",
    "        return 0\n",
    "    elif len(nums) == 1:\n",
    "        return 1\n",
    "    else:\n",
    "        pre, next_ = 0, 1\n",
    "        while next_ < len(nums): # 遍历nums\n",
    "            if nums[pre] != nums[next_]:\n",
    "                pre += 1\n",
    "                nums[pre] = nums[next_]\n",
    "            next_ += 1\n",
    "        return pre + 1"
   ]
  },
  {
   "cell_type": "code",
   "execution_count": 9,
   "metadata": {},
   "outputs": [
    {
     "data": {
      "text/plain": [
       "2"
      ]
     },
     "execution_count": 9,
     "metadata": {},
     "output_type": "execute_result"
    }
   ],
   "source": [
    "# test\n",
    "nums = [1,1,2]\n",
    "removeDuplicates(nums)"
   ]
  },
  {
   "cell_type": "markdown",
   "metadata": {},
   "source": [
    "## 35 - Search Insert Position\n",
    "\n",
    "---\n",
    "\n",
    "https://leetcode.com/problems/search-insert-position/description/\n",
    "\n",
    "Given a sorted array and a target value, return the index if the target is found. If not, return the index where it would be if it were inserted in order.\n",
    "\n",
    "You may assume no duplicates in the array.\n",
    "\n",
    "Example 1:\n",
    "\n",
    "Input: [1,3,5,6], 5\n",
    "Output: 2\n",
    "\n",
    "Example 2:\n",
    "\n",
    "Input: [1,3,5,6], 2\n",
    "Output: 1\n",
    "\n",
    "Example 3:\n",
    "\n",
    "Input: [1,3,5,6], 7\n",
    "Output: 4"
   ]
  },
  {
   "cell_type": "code",
   "execution_count": 3,
   "metadata": {
    "collapsed": true
   },
   "outputs": [],
   "source": [
    "def searchInsert(nums, target):\n",
    "    \"\"\"\n",
    "    :type nums: List[int]\n",
    "    :type target: int\n",
    "    :rtype: int\n",
    "    \"\"\"\n",
    "    assert len(set(nums)) == len(nums), 'nums中的元素必须唯一'\n",
    "\n",
    "    # target 最大\n",
    "    if target > max(nums):\n",
    "        return len(nums)\n",
    "\n",
    "    # target 最小\n",
    "    elif target < min(nums):\n",
    "        return 0\n",
    "\n",
    "    for i in range(len(nums)):\n",
    "        if nums[i] >= target:\n",
    "            return i"
   ]
  },
  {
   "cell_type": "code",
   "execution_count": 4,
   "metadata": {},
   "outputs": [
    {
     "data": {
      "text/plain": [
       "2"
      ]
     },
     "execution_count": 4,
     "metadata": {},
     "output_type": "execute_result"
    }
   ],
   "source": [
    "nums, target = [1,3,5,6], 5\n",
    "\n",
    "searchInsert(nums, target)"
   ]
  },
  {
   "cell_type": "markdown",
   "metadata": {},
   "source": [
    "## 661 - Image Smoother\n",
    "\n",
    "---\n",
    "\n",
    "Given a 2D integer matrix M representing the gray scale of an image, you need to design a smoother to make the gray scale of each cell becomes the average gray scale (rounding down) of all the 8 surrounding cells and itself. If a cell has less than 8 surrounding cells, then use as many as you can.\n",
    "\n",
    "Example 1:\n",
    "\n",
    "Input:\n",
    "[[1,1,1],\n",
    " [1,0,1],\n",
    " [1,1,1]]\n",
    "Output:\n",
    "[[0, 0, 0],\n",
    " [0, 0, 0],\n",
    " [0, 0, 0]]\n",
    " \n",
    "Explanation:\n",
    "\n",
    "For the point (0,0), (0,2), (2,0), (2,2): floor(3/4) = floor(0.75) = 0\n",
    "For the point (0,1), (1,0), (1,2), (2,1): floor(5/6) = floor(0.83333333) = 0\n",
    "For the point (1,1): floor(8/9) = floor(0.88888889) = 0\n",
    "\n",
    "Note:\n",
    "The value in the given matrix is in the range of [0, 255].\n",
    "The length and width of the given matrix are in the range of [1, 150]."
   ]
  },
  {
   "cell_type": "code",
   "execution_count": 5,
   "metadata": {
    "collapsed": true
   },
   "outputs": [],
   "source": [
    "def imageSmoother(M):\n",
    "    \"\"\"\n",
    "    :type M: List[List[int]]\n",
    "    :rtype: List[List[int]]\n",
    "    \"\"\"\n",
    "    from copy import deepcopy as copy\n",
    "    x_len = len(M)\n",
    "    y_len = len(M[0]) if x_len else 0\n",
    "    # 深度复制 M， 这样 res 和 M 就是完全独立的变量，互不影响\n",
    "    res = copy(M)\n",
    "    for x in range(x_len):\n",
    "        for y in range(y_len):\n",
    "            # 取 x，y 周围一圈的元素\n",
    "            neighbors = [\n",
    "                M[_x][_y]\n",
    "                for _x in (x-1, x, x+1)\n",
    "                for _y in (y-1, y, y+1)\n",
    "                if 0 <= _x < x_len and 0 <= _y < y_len\n",
    "            ]\n",
    "            # 求和， 整除\n",
    "            res[x][y] = sum(neighbors) // len(neighbors)\n",
    "    return res"
   ]
  },
  {
   "cell_type": "code",
   "execution_count": 6,
   "metadata": {},
   "outputs": [
    {
     "data": {
      "text/plain": [
       "[[0, 0, 0], [0, 0, 0], [0, 0, 0]]"
      ]
     },
     "execution_count": 6,
     "metadata": {},
     "output_type": "execute_result"
    }
   ],
   "source": [
    "M = [[1,1,1], [1,0,1], [1,1,1]] \n",
    "imageSmoother(M)"
   ]
  },
  {
   "cell_type": "markdown",
   "metadata": {},
   "source": [
    "## 345 - Reverse Vowels of a String \n",
    "\n",
    "---\n",
    "\n",
    "https://leetcode.com/problems/reverse-vowels-of-a-string/description/\n",
    "\n",
    "Write a function that takes a string as input and reverse only the vowels of a string.\n",
    "\n",
    "Example 1:\n",
    "Given s = \"hello\", return \"holle\".\n",
    "\n",
    "Example 2:\n",
    "Given s = \"leetcode\", return \"leotcede\".\n",
    "\n",
    "Note:\n",
    "The vowels does not include the letter \"y\". "
   ]
  },
  {
   "cell_type": "code",
   "execution_count": 1,
   "metadata": {
    "collapsed": true
   },
   "outputs": [],
   "source": [
    "def reverseVowels(s):\n",
    "    \"\"\"\n",
    "    :type s: str\n",
    "    :rtype: str\n",
    "    \"\"\"\n",
    "    # 元音字母 aeiou\n",
    "    vowels = 'aAeEiIoOuU'\n",
    "    s = list(s)\n",
    "\n",
    "    # step 1. 取出所有元音字母\n",
    "    vs = [i for i in s if i in vowels]\n",
    "\n",
    "    # step 2. 检测元音，依次替换\n",
    "    for i in range(len(s)):\n",
    "        if s[i] in vowels:\n",
    "            s[i] = vs.pop()\n",
    "\n",
    "    return ''.join(s)"
   ]
  },
  {
   "cell_type": "code",
   "execution_count": 3,
   "metadata": {},
   "outputs": [
    {
     "data": {
      "text/plain": [
       "'leotcede'"
      ]
     },
     "execution_count": 3,
     "metadata": {},
     "output_type": "execute_result"
    }
   ],
   "source": [
    "# s = 'hello'\n",
    "s = 'leetcode'\n",
    "\n",
    "reverseVowels(s)"
   ]
  },
  {
   "cell_type": "markdown",
   "metadata": {},
   "source": [
    "## 28 - Implement strStr() \n",
    "\n",
    "---\n",
    "\n",
    "https://leetcode.com/problems/implement-strstr/description/\n",
    "\n",
    "Implement strStr().\n",
    "\n",
    "Return the index of the first occurrence of needle in haystack, or -1 if needle is not part of haystack.\n",
    "\n",
    "Example 1:\n",
    "\n",
    "Input: haystack = \"hello\", needle = \"ll\"\n",
    "Output: 2\n",
    "\n",
    "Example 2:\n",
    "\n",
    "Input: haystack = \"aaaaa\", needle = \"bba\"\n",
    "Output: -1\n"
   ]
  },
  {
   "cell_type": "code",
   "execution_count": 2,
   "metadata": {},
   "outputs": [],
   "source": [
    "def strStr(haystack, needle, use='solution 2'):\n",
    "    \"\"\"\n",
    "    :type haystack: str\n",
    "    :type needle: str\n",
    "    :rtype: int\n",
    "    \"\"\"\n",
    "    # solution 1\n",
    "    if use == 'solution 1':\n",
    "        if needle not in haystack:\n",
    "            return -1\n",
    "        elif needle==\"\" or haystack==\"\":\n",
    "            return 0\n",
    "        else:\n",
    "            x = haystack.split(needle)\n",
    "            return len(x[0])\n",
    "\n",
    "    # solution 2\n",
    "    elif use == 'solution 2':\n",
    "        return haystack.find(needle) "
   ]
  },
  {
   "cell_type": "code",
   "execution_count": 3,
   "metadata": {},
   "outputs": [
    {
     "data": {
      "text/plain": [
       "2"
      ]
     },
     "execution_count": 3,
     "metadata": {},
     "output_type": "execute_result"
    }
   ],
   "source": [
    "haystack, needle = \"hello\", \"ll\"\n",
    "\n",
    "strStr(haystack, needle, use='solution 2')"
   ]
  },
  {
   "cell_type": "markdown",
   "metadata": {},
   "source": [
    "## 606 - Construct String from Binary Tree\n",
    "\n",
    "---\n",
    "\n",
    "https://leetcode.com/problems/construct-string-from-binary-tree/description/\n",
    "\n",
    "You need to construct a string consists of parenthesis and integers from a binary tree with the preorder traversing way.\n",
    "\n",
    "The null node needs to be represented by empty parenthesis pair \"()\". And you need to omit all the empty parenthesis pairs that don't affect the one-to-one mapping relationship between the string and the original binary tree.\n"
   ]
  },
  {
   "cell_type": "code",
   "execution_count": 16,
   "metadata": {
    "collapsed": true
   },
   "outputs": [],
   "source": [
    "def tree2str(t):\n",
    "    \"\"\"\n",
    "    :type t: TreeNode\n",
    "    :rtype: str\n",
    "    \"\"\"\n",
    "    if not t: return \"\"\n",
    "\n",
    "    left = '({})'.format(tree2str(t.left)) if (t.left or t.right) else \"\"\n",
    "    right = '({})'.format(tree2str(t.right)) if t.right else \"\"\n",
    "\n",
    "    return str(t.val) + left + right"
   ]
  },
  {
   "cell_type": "code",
   "execution_count": null,
   "metadata": {
    "collapsed": true
   },
   "outputs": [],
   "source": []
  }
 ],
 "metadata": {
  "kernelspec": {
   "display_name": "Python 3",
   "language": "python",
   "name": "python3"
  },
  "language_info": {
   "codemirror_mode": {
    "name": "ipython",
    "version": 3
   },
   "file_extension": ".py",
   "mimetype": "text/x-python",
   "name": "python",
   "nbconvert_exporter": "python",
   "pygments_lexer": "ipython3",
   "version": "3.6.1"
  }
 },
 "nbformat": 4,
 "nbformat_minor": 2
}
