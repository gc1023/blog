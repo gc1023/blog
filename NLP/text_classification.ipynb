{
 "cells": [
  {
   "cell_type": "markdown",
   "metadata": {},
   "source": [
    "# 文本分类\n",
    "\n",
    "---\n",
    "\n",
    "\n"
   ]
  },
  {
   "cell_type": "code",
   "execution_count": 1,
   "metadata": {
    "collapsed": true
   },
   "outputs": [],
   "source": [
    "import numpy as np"
   ]
  },
  {
   "cell_type": "code",
   "execution_count": 2,
   "metadata": {},
   "outputs": [],
   "source": [
    "def load_data():\n",
    "    from sklearn.datasets import fetch_20newsgroups\n",
    "\n",
    "    categories = ['alt.atheism', 'soc.religion.christian',\n",
    "                  'comp.graphics', 'sci.med']\n",
    "    twenty_train = fetch_20newsgroups(subset='train',\n",
    "                                      categories=categories,\n",
    "                                      shuffle=True, random_state=68)\n",
    "    twenty_test = fetch_20newsgroups(subset='test',\n",
    "                                     categories=categories,\n",
    "                                     shuffle=True,\n",
    "                                     random_state=68)\n",
    "    return twenty_train, twenty_test\n",
    "\n",
    "# 加载数据集\n",
    "train, test = load_data()\n",
    "\n",
    "# from sklearn.feature_extraction.text import CountVectorizer\n",
    "# count_vect = CountVectorizer()\n",
    "# X_train_counts = count_vect.fit_transform(train.data)\n",
    "\n",
    "# from sklearn.feature_extraction.text import TfidfTransformer\n",
    "# tfidf_transformer = TfidfTransformer()\n",
    "# X_train_tfidf = tfidf_transformer.fit_transform(X_train_counts)\n",
    "# X_train = X_train_tfidf.toarray()"
   ]
  },
  {
   "cell_type": "code",
   "execution_count": 16,
   "metadata": {
    "collapsed": true
   },
   "outputs": [],
   "source": [
    "from gensim.corpora import Dictionary\n",
    "\n",
    "corpus = [x.split() for x in train['data']]\n",
    "dct = Dictionary(corpus)\n",
    "\n",
    "texts_with_id = [dct.doc2idx(x.split()) for x in train['data']]"
   ]
  },
  {
   "cell_type": "code",
   "execution_count": 4,
   "metadata": {
    "collapsed": true
   },
   "outputs": [],
   "source": [
    "import torch\n",
    "import torch.nn as nn\n",
    "from torch.autograd import Variable\n",
    "import numpy as np\n",
    "\n",
    "\n",
    "class TextCNN(nn.Module):\n",
    "    def __init__(self, n_class, vocab_size, dim, max_len):\n",
    "        super(TextCNN, self).__init__()\n",
    "        self.max_len = max_len\n",
    "        self.dim = dim\n",
    "        self.embedding = nn.Embedding(vocab_size, dim)\n",
    "        self.conv1 = nn.Sequential(\n",
    "            nn.Conv2d(in_channels=1, out_channels=16, kernel_size=5,\n",
    "                      stride=1, padding=2),\n",
    "            nn.ReLU(),\n",
    "            nn.MaxPool2d(kernel_size=2)\n",
    "        )\n",
    "        self.conv2 = nn.Sequential(\n",
    "            nn.Conv2d(in_channels=16, out_channels=32, kernel_size=5,\n",
    "                      stride=1, padding=2),\n",
    "            nn.ReLU(),\n",
    "            nn.MaxPool2d(2)\n",
    "        )\n",
    "        self.conv3 = nn.Sequential(\n",
    "            nn.Conv2d(in_channels=32, out_channels=64, kernel_size=5,\n",
    "                      stride=1, padding=2),\n",
    "            nn.ReLU(),\n",
    "            nn.MaxPool2d(2)\n",
    "        )\n",
    "        self.conv4 = nn.Sequential(\n",
    "            nn.Conv2d(in_channels=64, out_channels=128, kernel_size=5,\n",
    "                      stride=1, padding=2),\n",
    "            nn.ReLU(),\n",
    "            nn.MaxPool2d(2)\n",
    "        )\n",
    "        self.out = nn.Linear(512, n_class)\n",
    "\n",
    "    def forward(self, x):\n",
    "        x = self.embedding(x)\n",
    "        x = x.view(x.size(0), 1, self.max_len, self.dim)\n",
    "        x = self.conv1(x)\n",
    "        x = self.conv2(x)\n",
    "        x = self.conv3(x)\n",
    "        x = self.conv4(x)\n",
    "        x = x.view(x.size(0), -1)\n",
    "        output = self.out(x)\n",
    "        return output\n"
   ]
  },
  {
   "cell_type": "code",
   "execution_count": 6,
   "metadata": {
    "collapsed": true
   },
   "outputs": [],
   "source": [
    "cnn = TextCNN(n_class=4, vocab_size=100000, dim=100, max_len=1000)"
   ]
  },
  {
   "cell_type": "code",
   "execution_count": 7,
   "metadata": {
    "collapsed": true
   },
   "outputs": [],
   "source": [
    "LR = 0.001\n",
    "optimizer = torch.optim.Adam(cnn.parameters(), lr=LR)\n",
    "# 损失函数\n",
    "loss_function = nn.CrossEntropyLoss()"
   ]
  },
  {
   "cell_type": "code",
   "execution_count": 11,
   "metadata": {},
   "outputs": [
    {
     "ename": "TypeError",
     "evalue": "torch.LongTensor constructor received an invalid combination of arguments - got (torch.FloatTensor), but expected one of:\n * no arguments\n * (int ...)\n      didn't match because some of the arguments have invalid types: (!torch.FloatTensor!)\n * (torch.LongTensor viewed_tensor)\n      didn't match because some of the arguments have invalid types: (!torch.FloatTensor!)\n * (torch.Size size)\n      didn't match because some of the arguments have invalid types: (!torch.FloatTensor!)\n * (torch.LongStorage data)\n      didn't match because some of the arguments have invalid types: (!torch.FloatTensor!)\n * (Sequence data)\n      didn't match because some of the arguments have invalid types: (!torch.FloatTensor!)\n",
     "output_type": "error",
     "traceback": [
      "\u001b[0;31m---------------------------------------------------------------------------\u001b[0m",
      "\u001b[0;31mTypeError\u001b[0m                                 Traceback (most recent call last)",
      "\u001b[0;32m<ipython-input-11-bffb010e76a2>\u001b[0m in \u001b[0;36m<module>\u001b[0;34m()\u001b[0m\n\u001b[1;32m     10\u001b[0m \u001b[0;32mfor\u001b[0m \u001b[0mepoch\u001b[0m \u001b[0;32min\u001b[0m \u001b[0mrange\u001b[0m\u001b[0;34m(\u001b[0m\u001b[0mEPOCH\u001b[0m\u001b[0;34m)\u001b[0m\u001b[0;34m:\u001b[0m\u001b[0;34m\u001b[0m\u001b[0m\n\u001b[1;32m     11\u001b[0m     \u001b[0;32mfor\u001b[0m \u001b[0mi\u001b[0m \u001b[0;32min\u001b[0m \u001b[0mrange\u001b[0m\u001b[0;34m(\u001b[0m\u001b[0;36m0\u001b[0m\u001b[0;34m,\u001b[0m \u001b[0mint\u001b[0m\u001b[0;34m(\u001b[0m\u001b[0mlen\u001b[0m\u001b[0;34m(\u001b[0m\u001b[0mtrain_x\u001b[0m\u001b[0;34m)\u001b[0m \u001b[0;34m/\u001b[0m \u001b[0mepoch_size\u001b[0m\u001b[0;34m)\u001b[0m\u001b[0;34m)\u001b[0m\u001b[0;34m:\u001b[0m\u001b[0;34m\u001b[0m\u001b[0m\n\u001b[0;32m---> 12\u001b[0;31m         \u001b[0mb_x\u001b[0m \u001b[0;34m=\u001b[0m \u001b[0mVariable\u001b[0m\u001b[0;34m(\u001b[0m\u001b[0mtorch\u001b[0m\u001b[0;34m.\u001b[0m\u001b[0mLongTensor\u001b[0m\u001b[0;34m(\u001b[0m\u001b[0mtrain_x\u001b[0m\u001b[0;34m[\u001b[0m\u001b[0mi\u001b[0m \u001b[0;34m*\u001b[0m \u001b[0mepoch_size\u001b[0m\u001b[0;34m:\u001b[0m\u001b[0mi\u001b[0m \u001b[0;34m*\u001b[0m \u001b[0mepoch_size\u001b[0m \u001b[0;34m+\u001b[0m \u001b[0mepoch_size\u001b[0m\u001b[0;34m]\u001b[0m\u001b[0;34m)\u001b[0m\u001b[0;34m)\u001b[0m\u001b[0;34m\u001b[0m\u001b[0m\n\u001b[0m\u001b[1;32m     13\u001b[0m         \u001b[0mb_y\u001b[0m \u001b[0;34m=\u001b[0m \u001b[0mVariable\u001b[0m\u001b[0;34m(\u001b[0m\u001b[0mtorch\u001b[0m\u001b[0;34m.\u001b[0m\u001b[0mLongTensor\u001b[0m\u001b[0;34m(\u001b[0m\u001b[0;34m(\u001b[0m\u001b[0mtrain_y\u001b[0m\u001b[0;34m[\u001b[0m\u001b[0mi\u001b[0m \u001b[0;34m*\u001b[0m \u001b[0mepoch_size\u001b[0m\u001b[0;34m:\u001b[0m\u001b[0mi\u001b[0m \u001b[0;34m*\u001b[0m \u001b[0mepoch_size\u001b[0m \u001b[0;34m+\u001b[0m \u001b[0mepoch_size\u001b[0m\u001b[0;34m]\u001b[0m\u001b[0;34m)\u001b[0m\u001b[0;34m)\u001b[0m\u001b[0;34m)\u001b[0m\u001b[0;34m\u001b[0m\u001b[0m\n\u001b[1;32m     14\u001b[0m         \u001b[0moutput\u001b[0m \u001b[0;34m=\u001b[0m \u001b[0mcnn\u001b[0m\u001b[0;34m(\u001b[0m\u001b[0mb_x\u001b[0m\u001b[0;34m)\u001b[0m\u001b[0;34m\u001b[0m\u001b[0m\n",
      "\u001b[0;31mTypeError\u001b[0m: torch.LongTensor constructor received an invalid combination of arguments - got (torch.FloatTensor), but expected one of:\n * no arguments\n * (int ...)\n      didn't match because some of the arguments have invalid types: (!torch.FloatTensor!)\n * (torch.LongTensor viewed_tensor)\n      didn't match because some of the arguments have invalid types: (!torch.FloatTensor!)\n * (torch.Size size)\n      didn't match because some of the arguments have invalid types: (!torch.FloatTensor!)\n * (torch.LongStorage data)\n      didn't match because some of the arguments have invalid types: (!torch.FloatTensor!)\n * (Sequence data)\n      didn't match because some of the arguments have invalid types: (!torch.FloatTensor!)\n"
     ]
    }
   ],
   "source": [
    "# 训练批次大小\n",
    "epoch_size = 100\n",
    "train_x = torch.Tensor(X_train)\n",
    "train_y = torch.LongTensor(Y_train)\n",
    "# test_x = torch.LongTensor(X_test)\n",
    "# test_y = torch.LongTensor(Y_test)\n",
    "EPOCH = 10\n",
    "\n",
    "test_epoch_size = 300\n",
    "for epoch in range(EPOCH):\n",
    "    for i in range(0, int(len(train_x) / epoch_size)):\n",
    "        b_x = Variable(torch.LongTensor(train_x[i * epoch_size:i * epoch_size + epoch_size]))\n",
    "        b_y = Variable(torch.LongTensor((train_y[i * epoch_size:i * epoch_size + epoch_size])))\n",
    "        output = cnn(b_x)\n",
    "        loss = loss_function(output, b_y)\n",
    "        optimizer.zero_grad()\n",
    "        loss.backward()\n",
    "        optimizer.step()\n",
    "        print(str(i))\n",
    "        print(loss)\n",
    "        pred_y = torch.max(output, 1)[1].data.squeeze()\n",
    "        acc = (b_y == pred_y)\n",
    "        acc = acc.numpy().sum()\n",
    "        accuracy = acc / (b_y.size(0))\n",
    "\n",
    "#     acc_all = 0\n",
    "#     for j in range(0, (int)(len(test_x) / test_epoch_size)):\n",
    "#         b_x = Variable(torch.LongTensor(test_x[j * test_epoch_size:j * test_epoch_size + test_epoch_size]))\n",
    "#         b_y = Variable(torch.LongTensor((test_y[j * test_epoch_size:j * test_epoch_size + test_epoch_size])))\n",
    "#         test_output = cnn(b_x)\n",
    "#         pred_y = torch.max(test_output, 1)[1].data.squeeze()\n",
    "#         # print(pred_y)\n",
    "#         # print(test_y)\n",
    "#         acc = (pred_y == b_y)\n",
    "#         acc = acc.numpy().sum()\n",
    "#         print(\"acc \" + str(acc / b_y.size(0)))\n",
    "#         acc_all = acc_all + acc\n",
    "\n",
    "#     accuracy = acc_all / (test_y.size(0))\n",
    "#     print(\"epoch \" + str(epoch) + \" step \" + str(i) + \" \" + \"acc \" + str(accuracy))\n"
   ]
  },
  {
   "cell_type": "code",
   "execution_count": null,
   "metadata": {
    "collapsed": true
   },
   "outputs": [],
   "source": []
  }
 ],
 "metadata": {
  "kernelspec": {
   "display_name": "Python 3",
   "language": "python",
   "name": "python3"
  },
  "language_info": {
   "codemirror_mode": {
    "name": "ipython",
    "version": 3
   },
   "file_extension": ".py",
   "mimetype": "text/x-python",
   "name": "python",
   "nbconvert_exporter": "python",
   "pygments_lexer": "ipython3",
   "version": "3.6.2"
  }
 },
 "nbformat": 4,
 "nbformat_minor": 2
}
