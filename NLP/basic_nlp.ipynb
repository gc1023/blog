{
 "cells": [
  {
   "cell_type": "markdown",
   "metadata": {},
   "source": [
    "# NLP基础\n",
    "\n",
    "---\n"
   ]
  },
  {
   "cell_type": "code",
   "execution_count": 1,
   "metadata": {
    "collapsed": true
   },
   "outputs": [],
   "source": [
    "def load_data():\n",
    "    from sklearn.datasets import fetch_20newsgroups\n",
    "\n",
    "    categories = ['alt.atheism', 'soc.religion.christian',\n",
    "                  'comp.graphics', 'sci.med']\n",
    "    twenty_train = fetch_20newsgroups(subset='train',\n",
    "                                      categories=categories,\n",
    "                                      shuffle=True, random_state=68)\n",
    "    twenty_test = fetch_20newsgroups(subset='test',\n",
    "                                     categories=categories,\n",
    "                                     shuffle=True,\n",
    "                                     random_state=68)\n",
    "    return twenty_train, twenty_test\n",
    "\n",
    "# 加载数据集\n",
    "train, test = load_data()"
   ]
  },
  {
   "cell_type": "markdown",
   "metadata": {},
   "source": [
    "## 给定一个语料库，创建词袋模型\n",
    "\n",
    "---\n",
    "\n"
   ]
  },
  {
   "cell_type": "code",
   "execution_count": 2,
   "metadata": {
    "collapsed": true
   },
   "outputs": [],
   "source": [
    "from gensim.corpora import Dictionary\n",
    "\n",
    "corpus = [x.split() for x in train['data']]\n",
    "\n",
    "dct = Dictionary(corpus)"
   ]
  },
  {
   "cell_type": "code",
   "execution_count": 6,
   "metadata": {},
   "outputs": [
    {
     "data": {
      "text/plain": [
       "[6,\n",
       " 39,\n",
       " 0,\n",
       " 4,\n",
       " 7,\n",
       " 14,\n",
       " 13,\n",
       " 32,\n",
       " 15,\n",
       " 13,\n",
       " 32,\n",
       " 9,\n",
       " 50,\n",
       " 11,\n",
       " 27,\n",
       " 12,\n",
       " 17,\n",
       " 42,\n",
       " 3,\n",
       " 10,\n",
       " 1,\n",
       " 8,\n",
       " 20,\n",
       " 35,\n",
       " 33,\n",
       " 22,\n",
       " 34,\n",
       " 43,\n",
       " 50,\n",
       " 32,\n",
       " 43,\n",
       " 18,\n",
       " 53,\n",
       " 59,\n",
       " 5,\n",
       " 55,\n",
       " 40,\n",
       " 44,\n",
       " 8,\n",
       " 41,\n",
       " 57,\n",
       " 38,\n",
       " 30,\n",
       " 56,\n",
       " 37,\n",
       " 22,\n",
       " 29,\n",
       " 25,\n",
       " 57,\n",
       " 36,\n",
       " 55,\n",
       " 54,\n",
       " 21,\n",
       " 58,\n",
       " 55,\n",
       " 48,\n",
       " 47,\n",
       " 24,\n",
       " 52,\n",
       " 57,\n",
       " 45,\n",
       " 46,\n",
       " 31,\n",
       " 49,\n",
       " 2,\n",
       " 34,\n",
       " 19,\n",
       " 55,\n",
       " 51,\n",
       " 60,\n",
       " 26,\n",
       " 28,\n",
       " 23,\n",
       " 16]"
      ]
     },
     "execution_count": 6,
     "metadata": {},
     "output_type": "execute_result"
    }
   ],
   "source": [
    "dct.doc2idx(train['data'][0].split())"
   ]
  },
  {
   "cell_type": "code",
   "execution_count": null,
   "metadata": {
    "collapsed": true
   },
   "outputs": [],
   "source": []
  }
 ],
 "metadata": {
  "kernelspec": {
   "display_name": "Python 3",
   "language": "python",
   "name": "python3"
  },
  "language_info": {
   "codemirror_mode": {
    "name": "ipython",
    "version": 3
   },
   "file_extension": ".py",
   "mimetype": "text/x-python",
   "name": "python",
   "nbconvert_exporter": "python",
   "pygments_lexer": "ipython3",
   "version": "3.6.2"
  }
 },
 "nbformat": 4,
 "nbformat_minor": 2
}
