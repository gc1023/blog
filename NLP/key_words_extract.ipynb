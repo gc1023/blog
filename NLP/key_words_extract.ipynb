{
 "cells": [
  {
   "cell_type": "markdown",
   "metadata": {},
   "source": [
    "# 关键词提取\n",
    "\n",
    "---\n",
    "\n",
    "关键词提取是指从文本中确定一些能够描述文档含义的术语的过程。\n",
    "\n"
   ]
  },
  {
   "cell_type": "markdown",
   "metadata": {},
   "source": [
    "## TextRank\n",
    "\n",
    "---\n",
    "\n",
    "\n",
    "\n",
    "\n",
    "\n",
    "TextRank - A Graph-Based Ranking Model\n",
    "\n",
    "TextRank是一个无监督算法，本质上是一个用于文本处理的图排序模型。对于图排序模型来说，它需要做的就是找到一种方法来计算图中任一顶点（Vertex）的重要性，这个方法需要依赖整个图的全局信息（global information）进行递归计算，而不仅仅是任一顶点的局部信息（local vertex-specific information）。\n",
    "\n",
    "PageRank中的顶点重要性计算方法：\n",
    "\n",
    "G=(V, E)\n",
    "V - 顶点集\n",
    "E - 边集\n",
    "\n",
    "顶点Vi的计算公式为：\n",
    "\n",
    "$$S(V_i)=(1-d)+d\\cdot\\sum_{j\\in In(V_i)}\\frac{1}{|Out(V_j)|}S(V_j)$$\n",
    "\n",
    "其中，\n",
    "d - 阻尼系数，取值范围[0, 1]；这个系数的作用是引入一个从给定顶点到任意顶点的概率；通常设置为0.85\n",
    "Out(Vi) - 从顶点Vi出发的边的集合\n",
    "In(Vi) - 到达顶点Vi的边的集合\n",
    "\n",
    "为图中的任一顶点设置一个任意值，迭代计算，直到小于一个给定的阈值（threshold）。计算结束以后，每一个顶点都会有一个对应的得分，这个就是顶点在图中的重要性。\n",
    "\n",
    "PageRank算法的最终结果与初始值无关，但是迭代次数的不同会对结果有一定的影响。\n",
    "\n",
    "特别需要注意的是：除了PageRank之外，其他的基于图的排序算法也可以与TextRank模型进行整合，如：HITS、Positional Function等。\n",
    "\n",
    "\n",
    "使用TextRank进行关键词提取\n",
    "\n",
    "输出：一组能够代表给定文本的词或短语的集合。\n",
    "\n",
    "语法过滤器（syntactic filter）：根据语法成分对词进行筛选，比如，仅保留名词和动词用于构建图。\n",
    "\n",
    "仅使用单个词作为顶点，\n",
    "\n",
    "\n",
    "\n",
    "\n",
    "\n",
    "### 参考资料\n",
    "\n",
    "\n",
    "* https://github.com/letiantian/TextRank4ZH\n",
    "* [pdf - TextRank: Bringing Order into Texts](https://web.eecs.umich.edu/~mihalcea/papers/mihalcea.emnlp04.pdf)\n",
    "* [TextRank算法提取关键词和摘要](http://xiaosheng.me/2017/04/08/article49/)\n",
    "* [文献阅读 — TextRank: Bringing Order into Texts](https://www.jianshu.com/p/e9d251d1bcdc)\n"
   ]
  },
  {
   "cell_type": "markdown",
   "metadata": {},
   "source": [
    "## RAKE\n",
    "---\n",
    "\n",
    "全称：Rapid Automatic Keyword Extraction\n",
    "\n",
    "https://github.com/aneesha/RAKE"
   ]
  },
  {
   "cell_type": "code",
   "execution_count": null,
   "metadata": {
    "collapsed": true
   },
   "outputs": [],
   "source": []
  }
 ],
 "metadata": {
  "kernelspec": {
   "display_name": "Python 3",
   "language": "python",
   "name": "python3"
  },
  "language_info": {
   "codemirror_mode": {
    "name": "ipython",
    "version": 3
   },
   "file_extension": ".py",
   "mimetype": "text/x-python",
   "name": "python",
   "nbconvert_exporter": "python",
   "pygments_lexer": "ipython3",
   "version": "3.6.2"
  }
 },
 "nbformat": 4,
 "nbformat_minor": 2
}
