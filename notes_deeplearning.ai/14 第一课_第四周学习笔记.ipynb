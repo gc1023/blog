{
 "cells": [
  {
   "cell_type": "markdown",
   "metadata": {
    "collapsed": true
   },
   "source": [
    "# 第一课_第四周学习笔记\n",
    "---\n",
    "**内容概要：**\n",
    "1. Parameters vs Hyperparameters\n",
    "2. 为什么用深度神经网络（why deep presentation）\n",
    "3. 逐步实现深度神经网络\n",
    "4. 确定各层参数矩阵维度 & 随机初始化\n",
    "5. 使用tensorflow实现深度神经网络\n"
   ]
  },
  {
   "cell_type": "markdown",
   "metadata": {},
   "source": [
    "### 0 - 符号约定\n",
    "|符号|含义|\n",
    "|:---:|:---|\n",
    "|$L$|层数|\n",
    "|上标 $[l]$|a quantity associated with the $l^{th}$ layer|\n",
    "|$n^{[l]}$|第 $l$ 层 的神经元数量|\n",
    "|$a^{[l]}$|第 $l$ 层的激活函数计算结果|\n",
    "|$W^{[l]}$|the $l^{th}$ layer weights|\n",
    "|$b^{[l]}$|the $l^{th}$ layer biases|\n",
    "|上标 $(i)$|a quantity associated with the $i^{th}$ example|\n",
    "|$x^{(i)}$|the $i^{th}$ training example|\n",
    "|下标 $i$|the $i^{th}$ entry of a vector|\n",
    "|$a^{[l]}_i$ |the $i^{th}$ entry of the $l^{th}$ layer's activations.|\n"
   ]
  },
  {
   "cell_type": "markdown",
   "metadata": {},
   "source": [
    "### 1 - 参数（Parameters） & 超参 （HyperParameters）\n",
    "---\n",
    "参数是模型内部的配置变量，可以通过训练数据估计参数的值；超参是模型外部的配置，必须手动设置参数的值。由于超参的设置对参数会产生非常大的影响，因此，超参可以理解成控制参数的参数。事实上，使用不同的超参配置进行神经网络训练，得到的结果可能会大相径庭。 \n",
    "\n",
    "常见的参数有：W，b等\n",
    "\n",
    "常见的超参有：learning rate，iterations number， hidden layer number，hidden unit number等。\n"
   ]
  },
  {
   "cell_type": "markdown",
   "metadata": {},
   "source": [
    "### 2 - 为什么用深度神经网络（why deep presentation）\n",
    "---\n",
    ">Informally：There are functions you can compute with a \"small\" L-layer deep neural network that shallower networks require exponentially more hidden units to compute.\n",
    "\n",
    "上面这句话的意思就是，在神经网络中，针对复杂函数的逼近，增加层数会比增加神经元更有效。\n",
    "\n",
    "直观上理解，增加层数能够表达更多的信息，而增加单层的神经元数量，对于信息的表达提升能力有限。以CNN（卷积神经网络）进行图片识别任务为例，针对目标的识别层层递进，第一个隐含层检测边缘，第二个隐含层检测目标的组件，第三个隐含层就可以看到目标的轮廓了。如果在第一个隐含层增加神经元数量，仅仅是增加了边缘检测的正确率，依然不能检测图片中的组件。"
   ]
  },
  {
   "cell_type": "markdown",
   "metadata": {},
   "source": [
    "### 3 - 逐步实现深度神经网络\n",
    "---\n",
    "假设需要实现的深度神经网络层数为$L$（隐含层数量为$L-1$），首先，随机初始化各层的参数；其次是向前传播过程，这里要注意的是，隐含层要使用ReLU激活函数，防止深度增加造成梯度消失；接着计算loss；然后是向后传播过程，这个过程的激活函数要和向前传播过程一致；接着由梯度下降法更新参数；【向前传播】-【计算loss】-【向后传播】-【更新参数】是一个循环，需要迭代计算num_iterations次；最后是用训练好的模型在测试集上进行预测。\n",
    "\n",
    "其实现框架图如下：\n",
    "<img src=\"images/final outline.png\" style=\"width:800px;height:500px;\">\n",
    "<caption><center> **深度神经网络实现框架**</center></caption><br>\n",
    "\n",
    "前向传播过程的一种简介表示方法： *[LINEAR -> RELU] $\\times$ (L-1) -> LINEAR -> SIGMOID*\n",
    "\n",
    "---\n",
    "因此，使用Python实现上图所示的深度神经网络框架，需要完成6个部分的内容：\n",
    "- 随机初始化$L$-layer neural network的参数\n",
    "- 实现向前传播（forward propagation）模块（上图紫色部分）\n",
    "     - 单层线性方程组计算，结果保存为 $Z^{[l]}$\n",
    "     - 激活函数 (relu/sigmoid)\n",
    "     - 将以上两步组合成一个新的 [LINEAR->ACTIVATION]向前传播函数\n",
    "     - 堆叠向前传播函数：[LINEAR->RELU] 重复 L-1次，表示第1至L-1层，即所有隐含层；在后面加上一个[LINEAR->SIGMOID]，表示第L层，也就是输出层\n",
    "- 计算loss\n",
    "- 实现向后传播（backward propagation）模块（上图红色部分）\n",
    "    - 向后传播过程主要是计算当前参数的loss函数梯度\n",
    "- 更新参数\n",
    "- 预测函数\n",
    "\n",
    "上面6个部分的python实现与之前写的单隐层神经网络大同小异，值的注意的是各层参数矩阵的维度变化。\n",
    "\n",
    "**Note：** 以上摘自本周课程作业，完整的python实现过程，请查看课程作业！"
   ]
  },
  {
   "cell_type": "markdown",
   "metadata": {
    "collapsed": true
   },
   "source": [
    "### 4 - 确定各层参数矩阵维度 & 随机初始化\n",
    "---\n",
    "与单隐层神经网络一样，深度神经网络的参数初始化也必须是随机的，**绝对不能将所有参数初始化为0**。通常，使用标准正态分布来初始化$W$参数，$b$可以初始化为0。\n",
    "\n",
    "对于深度神经网络而言，参数初始化的另外一个难点是确定每一层的参数矩阵维度，这里非常容易出错。假设输入数据集$X$的大小为$(12288, 209)$ (with $m=209$ examples)，那么各层参数矩阵维度可以用下表表示：\n",
    "\n",
    "\n",
    "\n",
    "<table style=\"width:100%\">\n",
    "\n",
    "\n",
    "    <tr>\n",
    "        <td>  </td> \n",
    "        <td> **Shape of W** </td> \n",
    "        <td> **Shape of b**  </td> \n",
    "        <td> **Activation** </td>\n",
    "        <td> **Shape of Activation** </td> \n",
    "    <tr>\n",
    "    \n",
    "    <tr>\n",
    "        <td> **Layer 1** </td> \n",
    "        <td> $(n^{[1]},12288)$ </td> \n",
    "        <td> $(n^{[1]},1)$ </td> \n",
    "        <td> $Z^{[1]} = W^{[1]}  X + b^{[1]} $ </td> \n",
    "        \n",
    "        <td> $(n^{[1]},209)$ </td> \n",
    "    <tr>\n",
    "    \n",
    "    <tr>\n",
    "        <td> **Layer 2** </td> \n",
    "        <td> $(n^{[2]}, n^{[1]})$  </td> \n",
    "        <td> $(n^{[2]},1)$ </td> \n",
    "        <td>$Z^{[2]} = W^{[2]} A^{[1]} + b^{[2]}$ </td> \n",
    "        <td> $(n^{[2]}, 209)$ </td> \n",
    "    <tr>\n",
    "   \n",
    "       <tr>\n",
    "        <td> $\\vdots$ </td> \n",
    "        <td> $\\vdots$  </td> \n",
    "        <td> $\\vdots$  </td> \n",
    "        <td> $\\vdots$</td> \n",
    "        <td> $\\vdots$  </td> \n",
    "    <tr>\n",
    "    \n",
    "   <tr>\n",
    "        <td> **Layer L-1** </td> \n",
    "        <td> $(n^{[L-1]}, n^{[L-2]})$ </td> \n",
    "        <td> $(n^{[L-1]}, 1)$  </td> \n",
    "        <td>$Z^{[L-1]} =  W^{[L-1]} A^{[L-2]} + b^{[L-1]}$ </td> \n",
    "        <td> $(n^{[L-1]}, 209)$ </td> \n",
    "    <tr>\n",
    "    \n",
    "    \n",
    "   <tr>\n",
    "        <td> **Layer L** </td> \n",
    "        <td> $(n^{[L]}, n^{[L-1]})$ </td> \n",
    "        <td> $(n^{[L]}, 1)$ </td>\n",
    "        <td> $Z^{[L]} =  W^{[L]} A^{[L-1]} + b^{[L]}$</td>\n",
    "        <td> $(n^{[L]}, 209)$  </td> \n",
    "    <tr>\n",
    "\n",
    "</table>\n",
    "\n",
    "\n",
    "其中，$n^{[l]}$ 表示第 $l$ 层的神经元数量。仔细观察上表，可以发现，第$l$层的变量维度：\n",
    "$$W^{[l]}: (n^{[l]}, n^{[l-1]})$$\n",
    "$$b^{[l]}: (n^{[l]}, 1)$$\n",
    "\n"
   ]
  },
  {
   "cell_type": "markdown",
   "metadata": {},
   "source": [
    "### 5 - TensorFlow实现深度神经网络\n",
    "---\n",
    "ng在本周课程编程作业中提供了cat数据集和以下用于识别图片中是否有猫的深度神经网络模型。\n",
    "<img src=\"images/NlayerNN.png\" style=\"width:600px\">\n",
    "\n",
    "下面用TensorFlow来实现，代码如下：\n"
   ]
  },
  {
   "cell_type": "code",
   "execution_count": 1,
   "metadata": {
    "collapsed": true
   },
   "outputs": [],
   "source": [
    "import h5py\n",
    "import numpy as np\n",
    "import tensorflow as tf\n",
    "\n",
    "# 读入数据集\n",
    "train_dataset = h5py.File('datasets/train_catvnoncat.h5', \"r\")\n",
    "train_set_x_orig = np.array(train_dataset[\"train_set_x\"][:]) #  train set features  (209, 64, 64, 3)\n",
    "train_set_y_orig = np.array(train_dataset[\"train_set_y\"][:]) #  train set labels (209, 0)\n",
    "\n",
    "test_dataset = h5py.File('datasets/test_catvnoncat.h5', \"r\")\n",
    "test_set_x_orig = np.array(test_dataset[\"test_set_x\"][:]) # test set features (50, 64, 64, 3)\n",
    "test_set_y_orig = np.array(test_dataset[\"test_set_y\"][:]) # test set labels (50, 0)\n",
    "\n",
    "classes = np.array(test_dataset[\"list_classes\"][:]) # the list of classes\n",
    "\n",
    "train_set_y_orig = train_set_y_orig.reshape((1, train_set_y_orig.shape[0]))\n",
    "test_set_y_orig = test_set_y_orig.reshape((1, test_set_y_orig.shape[0]))\n",
    "\n",
    "# Reshape the training and test examples \n",
    "train_x_flatten = train_set_x_orig.reshape(train_set_x_orig.shape[0], -1).T   \n",
    "# The \"-1\" makes reshape flatten the remaining dimensions\n",
    "test_x_flatten = test_set_x_orig.reshape(test_set_x_orig.shape[0], -1).T\n",
    "\n",
    "# Standardize data to have feature values between 0 and 1.\n",
    "train_x = train_x_flatten/255.\n",
    "test_x = test_x_flatten/255."
   ]
  },
  {
   "cell_type": "code",
   "execution_count": 1,
   "metadata": {},
   "outputs": [
    {
     "name": "stdout",
     "output_type": "stream",
     "text": [
      "启用tensorboard，请复制以下代码(port可以修改)到cmd中，执行：\n",
      " tensorboard --logdir=C:\\Users\\Mike\\Documents\\Blog\\notes_deeplearning.ai\\log --port=6068\n"
     ]
    }
   ],
   "source": [
    "# 启用tensorboard\n",
    "import os\n",
    "\n",
    "if not os.path.exists('log'):\n",
    "    os.mkdir('log')\n",
    "    \n",
    "logdir = os.path.join(os.getcwd(), 'log')\n",
    "print('启用tensorboard，请复制以下代码(port可以修改)到cmd中，执行：\\n',\n",
    "      'tensorboard --logdir=%s --port=6068' % logdir)"
   ]
  },
  {
   "cell_type": "code",
   "execution_count": 3,
   "metadata": {
    "collapsed": true
   },
   "outputs": [],
   "source": [
    "# 定义网络结构 \n",
    "layers_dims = [12288, 20, 7, 5, 1]  \n",
    "# 输入层（第一个数字）和输出层（最后一个数字）不能修改，中间的隐含层可以修改，\n",
    "# 在中间增加数字就是增加隐含层，数字表示隐含层神经元数量\n",
    "train_size = train_set_x_orig.shape[0]\n",
    "L = len(layers_dims)\n",
    "\n",
    "\n",
    "# 随机初始化参数（单层）\n",
    "def init_parameters(shape):\n",
    "    W = tf.get_variable('W', shape, initializer=tf.truncated_normal_initializer(stddev=0.1, seed=1))\n",
    "    b = tf.get_variable('b', shape=(shape[0],1) , initializer=tf.constant_initializer(0.0))\n",
    "    return W, b\n",
    "\n",
    "# 前向传播\n",
    "def L_forward_propagation(X, L):\n",
    "    for i in range(1, L-1):\n",
    "        if i == 1:\n",
    "            A_pred = X\n",
    "        else:\n",
    "            A_pred = A\n",
    "        with tf.variable_scope('hidden_layer'+str(i)):\n",
    "            W, b = init_parameters(shape=(layers_dims[i], layers_dims[i-1]))\n",
    "            A = tf.nn.relu(tf.matmul(W, A_pred) + b)\n",
    "    # output layer\n",
    "    with tf.variable_scope('output_layer'):\n",
    "        W, b = init_parameters(shape=(layers_dims[L-1], layers_dims[L-2]))\n",
    "        Y = tf.matmul(W, A) + b  # 这里输出的是线性方程计算结果，并没有经过激活函数\n",
    "    return Y\n",
    "\n",
    "# 输入数据\n",
    "with tf.name_scope('input_layer'):\n",
    "    X = tf.placeholder(tf.float32, shape=(layers_dims[0], train_size), name='X')\n",
    "    y_ = tf.placeholder(tf.float32, shape=(layers_dims[-1], train_size), name='Y_label')\n",
    "\n",
    "\n",
    "y = L_forward_propagation(X, L)\n",
    "\n",
    "\n",
    "# 计算损失函数的命名空间。\n",
    "with tf.name_scope(\"loss_function\"):\n",
    "    cross_entropy = tf.nn.sigmoid_cross_entropy_with_logits(logits=y, labels=y_)\n",
    "    loss = tf.reduce_mean(cross_entropy)\n",
    "\n",
    "\n",
    "# 训练模型\n",
    "learning_rate = 0.05\n",
    "train_step = tf.train.GradientDescentOptimizer(learning_rate).minimize(loss)\n",
    "# train_step = tf.train.AdamOptimizer(learning_rate).minimize(loss)\n",
    "\n",
    "# 写入计算图到log\n",
    "summary_writer = tf.summary.FileWriter(logdir, tf.get_default_graph())\n",
    "summary_writer.close()"
   ]
  },
  {
   "cell_type": "code",
   "execution_count": 4,
   "metadata": {},
   "outputs": [
    {
     "name": "stdout",
     "output_type": "stream",
     "text": [
      "After 0 training step(s), loss on training set is 0.693251.\n",
      "After 100 training step(s), loss on training set is 0.644346.\n",
      "After 200 training step(s), loss on training set is 0.634704.\n",
      "After 300 training step(s), loss on training set is 0.564144.\n",
      "After 400 training step(s), loss on training set is 0.585186.\n",
      "After 500 training step(s), loss on training set is 0.426819.\n",
      "After 600 training step(s), loss on training set is 0.381561.\n",
      "After 700 training step(s), loss on training set is 0.495546.\n",
      "After 800 training step(s), loss on training set is 0.341763.\n",
      "After 900 training step(s), loss on training set is 0.376317.\n",
      "After 1000 training step(s), loss on training set is 0.663143.\n",
      "After 1100 training step(s), loss on training set is 0.433534.\n",
      "After 1200 training step(s), loss on training set is 0.183415.\n",
      "After 1300 training step(s), loss on training set is 0.887958.\n",
      "After 1400 training step(s), loss on training set is 0.163736.\n",
      "After 1500 training step(s), loss on training set is 0.0112102.\n"
     ]
    }
   ],
   "source": [
    "num_iterations = 1600\n",
    "\n",
    "with tf.Session() as sess:\n",
    "    tf.global_variables_initializer().run()\n",
    "    for i in range(num_iterations):\n",
    "        _, total_loss,  = sess.run([train_step, loss ], feed_dict={X: train_x, y_: train_set_y_orig})\n",
    "        if i % 100 == 0:\n",
    "            print(\"After %i training step(s), loss on training set is %s.\" % (i, str(total_loss)))"
   ]
  },
  {
   "cell_type": "markdown",
   "metadata": {},
   "source": [
    "## 参考资料\n",
    "---\n",
    "- [Tensorflow 实战Google深度学习框架 2017](http://download.csdn.net/download/u013003382/9872692)\n",
    "- [TensorFlow实现与优化深度神经网络](http://www.cnblogs.com/hellocwh/p/5527141.html)\n",
    "- [译-机器学习填坑：你知道模型参数和超参数之间的区别吗？](https://www.tuicool.com/articles/63eIBfV)"
   ]
  }
 ],
 "metadata": {
  "kernelspec": {
   "display_name": "Python 3",
   "language": "python",
   "name": "python3"
  },
  "language_info": {
   "codemirror_mode": {
    "name": "ipython",
    "version": 3
   },
   "file_extension": ".py",
   "mimetype": "text/x-python",
   "name": "python",
   "nbconvert_exporter": "python",
   "pygments_lexer": "ipython3",
   "version": "3.6.2"
  }
 },
 "nbformat": 4,
 "nbformat_minor": 2
}
