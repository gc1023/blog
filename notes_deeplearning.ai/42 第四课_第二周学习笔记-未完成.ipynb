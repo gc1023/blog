{
 "cells": [
  {
   "cell_type": "markdown",
   "metadata": {},
   "source": [
    "# 第四课 第二周 学习笔记\n",
    "---\n",
    "要想构建一个好的网络，学习别人构建的经典网络是一条捷径；这就像学习python的快速方法是大量阅读优秀的代码一样。\n",
    "LeNet-5\n",
    "AlexNet\n",
    "VGG-16, VGG-19\n",
    "\n",
    "paper阅读路线：AlexNet -> VGG-16/19 -> LeNet-5"
   ]
  },
  {
   "cell_type": "markdown",
   "metadata": {},
   "source": [
    "## 为什么残差网络有效？\n",
    "---\n",
    "\n"
   ]
  },
  {
   "cell_type": "markdown",
   "metadata": {},
   "source": [
    "## 1by1 convolution\n",
    "---\n",
    "信道（channels）压缩"
   ]
  },
  {
   "cell_type": "markdown",
   "metadata": {},
   "source": [
    "## Inception Network\n",
    "---\n"
   ]
  },
  {
   "cell_type": "markdown",
   "metadata": {},
   "source": [
    "## transfer learning\n",
    "---\n",
    "迁移学习值的考虑，特别是当数据集很小，计算资源有限的时候"
   ]
  }
 ],
 "metadata": {
  "kernelspec": {
   "display_name": "Python 3",
   "language": "python",
   "name": "python3"
  },
  "language_info": {
   "codemirror_mode": {
    "name": "ipython",
    "version": 3
   },
   "file_extension": ".py",
   "mimetype": "text/x-python",
   "name": "python",
   "nbconvert_exporter": "python",
   "pygments_lexer": "ipython3",
   "version": "3.6.1"
  }
 },
 "nbformat": 4,
 "nbformat_minor": 2
}
