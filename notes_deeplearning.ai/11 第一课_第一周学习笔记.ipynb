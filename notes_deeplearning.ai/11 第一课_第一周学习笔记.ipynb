{
 "cells": [
  {
   "cell_type": "markdown",
   "metadata": {
    "collapsed": true
   },
   "source": [
    "# 第一周  深度学习概论\n",
    "\n",
    "---\n",
    "\n",
    "吴恩达最新发布的深度学习课程包含以下五门课：\n",
    "\n",
    "神经网络是一种高效的机器学习算法，它模仿人脑的工作模式（最近，hinton反对这种说法）。\n",
    "\n",
    "standard NN\n",
    "Convolutional NN\n",
    "Recurrent NN\n",
    "\n",
    "监督学习（supervised learning）\n",
    "\n",
    "\n",
    "Structured Data & Unstuctured Data\n",
    "\n",
    "\n",
    "深度学习兴起的原因:\n",
    "\n",
    "https://mp.weixin.qq.com/s/rrgSh8OuEB_jk0Pv5_W5fg\n",
    "\n"
   ]
  },
  {
   "cell_type": "markdown",
   "metadata": {},
   "source": [
    "## 术语 - 中英对照表\n",
    "----\n",
    "\n",
    "|EN|CH|\n",
    "|---:|:---|\n",
    "|bacward propagation|向后传播|\n",
    "|forward propagation|向前传播|\n"
   ]
  },
  {
   "cell_type": "markdown",
   "metadata": {},
   "source": [
    "## 约定\n",
    "---\n",
    "\n",
    "算法 - 一种生成模型的数学逻辑\n",
    "模型 - 算法在数据集上训练得到，可以直接应用于新数据"
   ]
  }
 ],
 "metadata": {
  "kernelspec": {
   "display_name": "Python 3",
   "language": "python",
   "name": "python3"
  },
  "language_info": {
   "codemirror_mode": {
    "name": "ipython",
    "version": 3
   },
   "file_extension": ".py",
   "mimetype": "text/x-python",
   "name": "python",
   "nbconvert_exporter": "python",
   "pygments_lexer": "ipython3",
   "version": "3.6.1"
  }
 },
 "nbformat": 4,
 "nbformat_minor": 2
}
