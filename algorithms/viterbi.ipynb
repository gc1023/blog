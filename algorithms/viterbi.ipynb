{
 "cells": [
  {
   "cell_type": "markdown",
   "metadata": {},
   "source": [
    "# viterbi算法\n",
    "---\n",
    "\n",
    "\n",
    "## 输入参数\n",
    "\n",
    "* 隐含状态空间\n",
    "* 观测状态空间\n",
    "* 初始概率\n",
    "* 转移概率（隐含状态转移概率矩阵）\n",
    "* 发射概率\n",
    "\n",
    "## 输出\n",
    "* 最可能的观测序列\n",
    "\n",
    "\n",
    "## 参考\n",
    "https://www.cnblogs.com/zhenlingcn/p/8409576.html"
   ]
  },
  {
   "cell_type": "code",
   "execution_count": 4,
   "metadata": {
    "collapsed": true
   },
   "outputs": [],
   "source": [
    "import numpy as np\n",
    "\n",
    "\n",
    "def viterbi(hidden_states, observations, start_p, trans_p, emit_p):\n",
    "    \"\"\"维特比算法\n",
    "    ref: https://blog.csdn.net/youfefi/article/details/74276546\n",
    "    \"\"\"\n",
    "    # max_p 每一列存储第一列不同隐状态的最大概率\n",
    "    max_p = np.zeros((len(observations), len(hidden_states)))\n",
    "\n",
    "    # path 每一行存储上max_p对应列的路径\n",
    "    path = np.zeros((len(hidden_states), len(observations)))\n",
    "\n",
    "    # 初始化\n",
    "    for i in range(len(hidden_states)):\n",
    "        max_p[0][i] = start_p[i] * emit_p[i][observations[0]]\n",
    "        path[i][0] = i\n",
    "    \n",
    "    # 递推计算\n",
    "    for t in range(1, len(observations)):\n",
    "        newpath = np.zeros((len(hidden_states), len(observations)))\n",
    "        for y in range(len(hidden_states)):\n",
    "            prob = -1\n",
    "            for y0 in range(len(hidden_states)):\n",
    "                nprob = max_p[t-1][y0] * trans_p[y0][y] * emit_p[y][observations[t]]\n",
    "                if nprob > prob:\n",
    "                    prob = nprob\n",
    "                    state = y0\n",
    "                    # 记录路径\n",
    "                    max_p[t][y] = prob\n",
    "                    for m in range(t):\n",
    "                        newpath[y][m] = path[state][m]\n",
    "                    newpath[y][t] = y\n",
    "\n",
    "        path = newpath\n",
    "\n",
    "    max_prob = -1\n",
    "    path_state = 0\n",
    "    #  返回最大概率的路径\n",
    "    for y in range(len(hidden_states)):\n",
    "        if max_p[len(observations)-1][y] > max_prob:\n",
    "            max_prob = max_p[len(observations)-1][y]\n",
    "            path_state = y\n",
    "\n",
    "    return max_prob, path[path_state]"
   ]
  },
  {
   "cell_type": "code",
   "execution_count": 5,
   "metadata": {},
   "outputs": [
    {
     "name": "stdout",
     "output_type": "stream",
     "text": [
      "rainy\n",
      "sunny\n",
      "sunny\n"
     ]
    }
   ],
   "source": [
    "#  隐状态\n",
    "hidden_state = ['sunny', 'rainy']\n",
    "state_s = [0, 1]\n",
    "\n",
    "#  观测序列\n",
    "obsevition = ['walk', 'shop', 'clean']\n",
    "obser = [0, 1, 2]\n",
    "\n",
    "#   初始状态，测试集中，0.6概率观测序列以sunny开始\n",
    "start_probability = [0.6, 0.4]\n",
    "\n",
    "#   转移概率，0.7：sunny下一天sunny的概率\n",
    "transititon_probability = np.array([[0.7, 0.3], [0.4, 0.6]])\n",
    "\n",
    "#   发射概率，0.4：sunny在0.4概率下为shop\n",
    "emission_probability = np.array([[0.1, 0.4, 0.5], [0.6, 0.3, 0.1]])\n",
    "\n",
    "prob, result = viterbi(state_s, obser, start_probability, transititon_probability, emission_probability)\n",
    "\n",
    "for k in range(len(result)):\n",
    "    print(hidden_state[int(result[k])])"
   ]
  }
 ],
 "metadata": {
  "kernelspec": {
   "display_name": "Python 3",
   "language": "python",
   "name": "python3"
  },
  "language_info": {
   "codemirror_mode": {
    "name": "ipython",
    "version": 3
   },
   "file_extension": ".py",
   "mimetype": "text/x-python",
   "name": "python",
   "nbconvert_exporter": "python",
   "pygments_lexer": "ipython3",
   "version": "3.6.2"
  }
 },
 "nbformat": 4,
 "nbformat_minor": 2
}
