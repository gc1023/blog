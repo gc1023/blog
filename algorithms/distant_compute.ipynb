{
 "cells": [
  {
   "cell_type": "markdown",
   "metadata": {},
   "source": [
    "# 相似性计算方法汇总\n",
    "\n",
    "---\n",
    "\n",
    "常用的相似性计算方法有：1）欧式距离（Euclidean Distance）; 2）曼哈顿距离（Manhattan Distance）； 3）闵式距离（Minkowski Distance）； 4）余弦距离； 5）动态时间规整（DTW）；"
   ]
  },
  {
   "cell_type": "code",
   "execution_count": 79,
   "metadata": {},
   "outputs": [],
   "source": [
    "import numpy as np\n",
    "\n",
    "vector1 = [8.92, 8.71, 8.77, 8.75, 8.74, 8.71, 8.66, 8.71, 8.74, 8.8, 8.8, \n",
    "           8.79, 8.64, 8.56, 8.56, 8.43, 8.38, 8.42]\n",
    "vector2 = [32.99, 32.27, 32.16, 31.93, 32.8, 33.16, 32.59, 32.61, 29.35, \n",
    "           28.41, 27.85, 28.62, 28.62, 29.35, 30.14, 29.34, 28.88, 29.05]\n",
    "\n",
    "# vector1 = [1, 1, 1, 1]\n",
    "# vector2 = [1, 1, 1, 1]\n"
   ]
  },
  {
   "cell_type": "code",
   "execution_count": 80,
   "metadata": {},
   "outputs": [
    {
     "name": "stdout",
     "output_type": "stream",
     "text": [
      "93.19353786609885\n"
     ]
    }
   ],
   "source": [
    "def euclidean_distant(vector1, vector2):\n",
    "    \"\"\"欧式距离\"\"\"\n",
    "    vector1 = np.mat(vector1)\n",
    "    vector2 = np.mat(vector2)\n",
    "    return np.sqrt((vector1-vector2)*((vector1-vector2).T)).item()\n",
    " \n",
    "print(euclidean_distant(vector1, vector2))"
   ]
  },
  {
   "cell_type": "code",
   "execution_count": 76,
   "metadata": {},
   "outputs": [
    {
     "name": "stdout",
     "output_type": "stream",
     "text": [
      "394.03\n"
     ]
    }
   ],
   "source": [
    "def manhattan_distant(vector1, vector2):\n",
    "    \"\"\"曼哈顿距离\"\"\"\n",
    "    vector1 = np.mat(vector1)\n",
    "    vector2 = np.mat(vector2)\n",
    "    return np.sum(np.abs(vector1-vector2))\n",
    "\n",
    "print(manhattan_distant(vector1, vector2))"
   ]
  },
  {
   "cell_type": "code",
   "execution_count": 77,
   "metadata": {},
   "outputs": [
    {
     "name": "stdout",
     "output_type": "stream",
     "text": [
      "0.9983665339530308\n"
     ]
    }
   ],
   "source": [
    "def cosine_distant(vector1, vector2):\n",
    "    \"\"\"余弦距离\"\"\"\n",
    "    vector1 = np.mat(vector1)\n",
    "    vector2 = np.mat(vector2)\n",
    "    vector1_norm = np.linalg.norm(vector1)\n",
    "    vector2_norm = np.linalg.norm(vector2)\n",
    "    dot_norm = vector1_norm * vector2_norm\n",
    "    dot_vs = np.dot(vector1, vector2)\n",
    "    return np.divide(dot_vs, dot_norm).item()\n",
    "\n",
    "print(cosine_distant(vector1, vector2))    "
   ]
  },
  {
   "cell_type": "code",
   "execution_count": 85,
   "metadata": {},
   "outputs": [
    {
     "data": {
      "text/plain": [
       "0.6778430167108138"
      ]
     },
     "execution_count": 85,
     "metadata": {},
     "output_type": "execute_result"
    }
   ],
   "source": [
    "def pearson_similar(vector1,vector2):  \n",
    "    \"\"\"皮尔逊相关系数\"\"\"\n",
    "    if len(vector1)<3:  \n",
    "        return 1.0  \n",
    "    return 0.5+0.5*np.corrcoef(vector1,vector2,rowvar=0)[0][1]  \n",
    "\n",
    "pearson_similar(vector1,vector2)"
   ]
  }
 ],
 "metadata": {
  "kernelspec": {
   "display_name": "Python 3",
   "language": "python",
   "name": "python3"
  },
  "language_info": {
   "codemirror_mode": {
    "name": "ipython",
    "version": 3
   },
   "file_extension": ".py",
   "mimetype": "text/x-python",
   "name": "python",
   "nbconvert_exporter": "python",
   "pygments_lexer": "ipython3",
   "version": "3.6.1"
  }
 },
 "nbformat": 4,
 "nbformat_minor": 2
}
