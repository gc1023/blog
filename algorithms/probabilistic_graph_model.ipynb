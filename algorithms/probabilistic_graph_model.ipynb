{
 "cells": [
  {
   "cell_type": "markdown",
   "metadata": {},
   "source": [
    "# 概率图模型\n",
    "\n",
    "---\n",
    "\n",
    "马尔可夫性\n",
    "\n",
    "\n",
    "\n",
    "**团 & 最大团**\n",
    "* 团（clique）：无向图G中任意两个结点均有边连接的结点子集；\n",
    "* 最大团（maximal clique）：不能再加入任何一个结点的团。"
   ]
  },
  {
   "cell_type": "markdown",
   "metadata": {},
   "source": [
    "### 隐马尔可夫链"
   ]
  },
  {
   "cell_type": "markdown",
   "metadata": {},
   "source": [
    "## HMM\n",
    "\n",
    "---\n",
    "隐马尔可夫模型（Hidden Markov Model， HMM）属于生成模型，可用于标注问题。标注问题是给定观测序列，预测其对应的标记序列，即状态序列。序列的每一个位置可以看作是一个时刻。\n",
    "\n",
    "HMM是关于时序的概率模型，描述由一个隐藏的马尔可夫链随机生成不可观测的状态随机序列，再由各个状态生成一个观测而产生观测随机序列的过程。\n",
    "\n",
    "HMM在语音识别、自然语言处理等领域应用广泛。\n",
    "\n",
    "**状态序列 & 观测序列**\n",
    "* **状态序列（state sequence）**：隐藏的马尔可夫链随机乘车的状态的序列，通常是不可见的\n",
    "\n",
    "* **观测序列（observation sequence）**：状态序列中每个状态生成一个观测，由此产生的随机序列便是观测序列。\n",
    "\n",
    "\n",
    "**HMM的两个基本假设**\n",
    "* 1）齐次马尔科夫性假设：隐藏的马尔可夫链在任意时刻的状态只与其前一时刻的状态有关；\n",
    "* 2）观测独立性假设：任一时刻的观测仅依赖于该时刻的马尔科夫链的状态。\n",
    "\n",
    "\n",
    "**HMM的三个基本问题**\n",
    "* 1、概率计算问题：计算给定模型下一个观测序列出现的概率；\n",
    "* 2、学习问题：已知观测序列，估计模型的三个参数，使得观测序列出现的概率最大；\n",
    "* 3、预测问题：模型和观测序列已知，预测最有可能的状态序列。\n",
    "\n",
    "HMM模型示意图\n",
    "<img src=\"https://upload-images.jianshu.io/upload_images/4604328-f2e012d8a2706aa7.png?imageMogr2/auto-orient/strip%7CimageView2/2/w/1240\" width=400px>\n",
    "\n",
    "\n",
    "HMM通常表示为\n",
    "λ=(A,B, π)\n",
    "其中：\n",
    "* A - 状态转移概率矩阵\n",
    "* B - 观测概率矩阵\n",
    "* π - 初始状态概率向量\n",
    "\n",
    "由此可见，A,B, π是决定一个HMM模型的三要素。A 和 π确定了隐藏马尔可夫链，以及生成state sequence；B确定了如何从状态生成观测，与状态序列综合确定了如何产生observation sequence。\n",
    "\n",
    "观测序列的生成过程：\n",
    "<img src=\"https://upload-images.jianshu.io/upload_images/4604328-9356d098a745f44b.png?imageMogr2/auto-orient/strip%7CimageView2/2/w/1240\" width=400px>\n",
    "\n"
   ]
  },
  {
   "cell_type": "markdown",
   "metadata": {},
   "source": [
    "## CRF\n",
    "\n",
    "---\n",
    "* 全称：Conditional Random Field，条件随机场\n",
    "\n",
    "在输入一组随机变量的条件下，输出另一组随机变量的条件概率分布模型，假设输出随机变量构成马尔可夫随机场。\n",
    "\n",
    "CRF的3个基本问题：概率计算、学习、预测。\n",
    "\n",
    "**马尔可夫随机场 - Markov Random Field：**\n",
    "一个可以用无向图表示的联合概率分布，又称概率无向图模型（Probabilistic Undirected Graphical Model），满足成对、局部、或全局马尔可夫性\n",
    "\n",
    "无向图表示的随机变量之间存在的成对马尔可夫性（pairwise markov property）、局部马尔可夫性（local markov property）、全局马尔可夫性（global markov property）\n",
    "\n",
    "CRF是给定随机变量X条件下，随机变量Y的马尔可夫随机场。\n",
    "\n",
    "**线性链条件随机场（linear chain conditional random field）**是定义在线性链上的特殊的条件随机场，即条件概率模型P(Y|X)，Y是输出变量，表示状态序列，X是输入变量，表示需要标注的观测序列。一般假设X和Y具有相同的图结构。\n",
    "\n",
    "对于CRF而言，学习是指利用训练集通过极大似然估计（或正则化）得到条件概率模型，预测时，对于给定的输入序列x，求出条件概率最大的输出序列。\n",
    "\n",
    "* CRF的概率计算问题：向前向后算法\n",
    "* CRF的学习算法：极大似然估计、正则化的极大似然估计；具体的优化实现算法有“改进的迭代尺度法IIS”、“梯度下降法”、“拟牛顿法”等\n",
    "* CRF的预测算法：维特比算法\n",
    "\n",
    "\n",
    "\n",
    "\n",
    "\n"
   ]
  },
  {
   "cell_type": "markdown",
   "metadata": {},
   "source": [
    "## 参考资料\n",
    "\n",
    "---\n",
    "\n",
    "* [李航. 统计学习方法[M]. 清华大学出版社, 2012.](https://pan.baidu.com/s/1-ELrcH74FwGZKGS-lQaXyA) - 第10、11章\n",
    "* [周志华. 机器学习[M]. 清华大学出版社, 2016.](https://pan.baidu.com/s/1b_f_QQfyK3R4uU79rooPFg) - 第14章"
   ]
  }
 ],
 "metadata": {
  "kernelspec": {
   "display_name": "Python 3",
   "language": "python",
   "name": "python3"
  },
  "language_info": {
   "codemirror_mode": {
    "name": "ipython",
    "version": 3
   },
   "file_extension": ".py",
   "mimetype": "text/x-python",
   "name": "python",
   "nbconvert_exporter": "python",
   "pygments_lexer": "ipython3",
   "version": "3.6.2"
  }
 },
 "nbformat": 4,
 "nbformat_minor": 2
}
