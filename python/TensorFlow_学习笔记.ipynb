{
 "cells": [
  {
   "cell_type": "markdown",
   "metadata": {},
   "source": [
    "# TensorFlow 学习笔记\n",
    "---\n",
    "内容概要\n",
    "\n"
   ]
  },
  {
   "cell_type": "markdown",
   "metadata": {},
   "source": [
    "\n",
    "TF的系统构架分为两部分：\n",
    "\n",
    "    前端：提供编程模型，负责构造计算图，提供Python，C++，Java，Go等多种语言支持。\n",
    "    后端：提供运行时环境，负责执行计算图，采用C++实现。"
   ]
  },
  {
   "cell_type": "markdown",
   "metadata": {},
   "source": [
    "### 写日志\n",
    "---\n",
    "\n",
    "writer = tf.train.SummaryWriter()\n"
   ]
  },
  {
   "cell_type": "markdown",
   "metadata": {},
   "source": [
    "## TensorBoard\n",
    "---\n",
    "日志文件可视化；独立进程；展示TensorFlow运行过程中的计算图、各种指标随时间的变化趋势以及训练中使用的图像等信息。\n",
    "\n",
    "使用tensorboard分两步：\n",
    "\n",
    "1. 写入日志到logdir\n",
    "2. 命令行执行 tensorboard --logdir=logdir\n",
    "\n",
    "\n",
    "### 使用命名空间整理可视化效果图\n",
    "---\n",
    "* 同一个命名空间下的所有节点会被缩略成一个节点\n",
    "* 命名空间管理：tf.variable_scope/tf.name_scope\n",
    "\n",
    "### 添加节点信息\n",
    "---\n",
    "\n"
   ]
  },
  {
   "cell_type": "code",
   "execution_count": null,
   "metadata": {
    "collapsed": true
   },
   "outputs": [],
   "source": [
    "logdir = \"c:/\"\n",
    "writer = tf.train.SummaryWriter(logdir, tf.get_dafault_graph())\n",
    "wirter.close()\n"
   ]
  },
  {
   "cell_type": "markdown",
   "metadata": {},
   "source": [
    "### tensorboard usage\n",
    "---\n",
    "usage: tensorboard.exe [-h] [--logdir LOGDIR] [--host HOST] [--port PORT]\n",
    "                       [--purge_orphaned_data [PURGE_ORPHANED_DATA]]\n",
    "                       [--nopurge_orphaned_data]\n",
    "                       [--reload_interval RELOAD_INTERVAL]\n",
    "                       [--inspect [INSPECT]] [--noinspect] [--tag TAG]\n",
    "                       [--event_file EVENT_FILE]\n",
    "\n",
    "optional arguments:\n",
    "  -h, --help            show this help message and exit\n",
    "  --logdir LOGDIR       logdir specifies the directory where TensorBoard will\n",
    "                        look to find TensorFlow event files that it can\n",
    "                        display. TensorBoard will recursively walk the\n",
    "                        directory structure rooted at logdir, looking for\n",
    "                        .*tfevents.* files. You may also pass a comma\n",
    "                        separated list of log directories, and TensorBoard\n",
    "                        will watch each directory. You can also assign names\n",
    "                        to individual log directories by putting a colon\n",
    "                        between the name and the path, as in tensorboard\n",
    "                        --logdir=name1:/path/to/logs/1,name2:/path/to/logs/2\n",
    "  --host HOST           What host to listen to. Defaults to serving on all\n",
    "                        interfaces, set to 127.0.0.1 (localhost) todisable\n",
    "                        remote access (also quiets security warnings).\n",
    "  --port PORT           What port to serve TensorBoard on.\n",
    "  --purge_orphaned_data [PURGE_ORPHANED_DATA]\n",
    "                        Whether to purge data that may have been orphaned due\n",
    "                        to TensorBoard restarts. Disabling purge_orphaned_data\n",
    "                        can be used to debug data disappearance.\n",
    "  --nopurge_orphaned_data\n",
    "  --reload_interval RELOAD_INTERVAL\n",
    "                        How often the backend should load more data.\n",
    "  --inspect [INSPECT]   Use this flag to print out a digest of your event\n",
    "                        files to the command line, when no data is shown on\n",
    "                        TensorBoard or the data shown looks weird. Example\n",
    "                        usages: tensorboard --inspect\n",
    "                        --event_file=myevents.out tensorboard --inspect\n",
    "                        --event_file=myevents.out --tag=loss tensorboard\n",
    "                        --inspect --logdir=mylogdir tensorboard --inspect\n",
    "                        --logdir=mylogdir --tag=loss See\n",
    "                        tensorflow/python/summary/event_file_inspector.py for\n",
    "                        more info and detailed usage.\n",
    "  --noinspect\n",
    "  --tag TAG             The particular tag to query for. Only used if\n",
    "                        --inspect is present\n",
    "  --event_file EVENT_FILE\n",
    "                        The particular event file to query for. Only used if\n",
    "                        --inspect is present and --logdir is not specified."
   ]
  },
  {
   "cell_type": "markdown",
   "metadata": {},
   "source": [
    "## 使用Softmax回归进行MNIST字符识别\n",
    "\n",
    "[独家 | 一文读懂TensorFlow（附代码、学习资料） ](https://mp.weixin.qq.com/s?__biz=MzI1MjQ2OTQ3Ng==&mid=2247486310&idx=1&sn=a2181dc3957fb8ff91b739200f066dc3&chksm=e9e202edde958bfb449eb319a61056174c22a62c7cd0f68913351eeb9f7a4a50d089b1e8dee6&scene=0##)"
   ]
  },
  {
   "cell_type": "code",
   "execution_count": 11,
   "metadata": {},
   "outputs": [
    {
     "name": "stdout",
     "output_type": "stream",
     "text": [
      "Extracting MNIST_data/train-images-idx3-ubyte.gz\n",
      "Extracting MNIST_data/train-labels-idx1-ubyte.gz\n",
      "Extracting MNIST_data/t10k-images-idx3-ubyte.gz\n",
      "Extracting MNIST_data/t10k-labels-idx1-ubyte.gz\n",
      "0.098\n"
     ]
    }
   ],
   "source": [
    "# 导入 mnist 数据集\n",
    "from tensorflow.examples.tutorials.mnist import input_data\n",
    "mnist = input_data.read_data_sets(\"MNIST_data/\", one_hot=True)\n",
    "\n",
    "import tensorflow as tf\n",
    "\n",
    "# 输入图\n",
    "x = tf.placeholder('float', [None, 784]) # None 表示任意维度\n",
    "y_ = tf.placeholder('float', [None, 10])\n",
    "\n",
    "# 推断图\n",
    "W = tf.Variable(tf.zeros([784, 10]))\n",
    "b = tf.Variable(tf.zeros([10]))\n",
    "y = tf.nn.softmax(tf.matmul(x, W) + b)\n",
    "\n",
    "# 训练图\n",
    "cross_entropy = tf.reduce_sum(y_ *tf.log(y))  # 计算交叉熵\n",
    "train_step = tf.train.GradientDescentOptimizer(0.5).minimize(cross_entropy)\n",
    "\n",
    "# 创建session，运行模型\n",
    "sess = tf.InteractiveSession()\n",
    "tf.global_variables_initializer().run()\n",
    "for _ in range(1000):\n",
    "    batch_xs, batch_ys = mnist.train.next_batch(100)\n",
    "    sess.run(train_step, feed_dict={x:batch_xs, y_:batch_ys})\n",
    "    \n",
    "# 评估图\n",
    "correct_prediction = tf.equal(tf.argmax(y, 1), tf.argmax(y_, 1))\n",
    "accuracy = tf.reduce_mean(tf.cast(correct_prediction, tf.float32))\n",
    "\n",
    "print(sess.run(accuracy, feed_dict={x:mnist.test.images, y_:mnist.test.labels}))"
   ]
  },
  {
   "cell_type": "markdown",
   "metadata": {},
   "source": [
    "## 参考资料\n",
    "---\n",
    "* https://github.com/tensorflow/tensorflow"
   ]
  }
 ],
 "metadata": {
  "kernelspec": {
   "display_name": "Python 3",
   "language": "python",
   "name": "python3"
  },
  "language_info": {
   "codemirror_mode": {
    "name": "ipython",
    "version": 3
   },
   "file_extension": ".py",
   "mimetype": "text/x-python",
   "name": "python",
   "nbconvert_exporter": "python",
   "pygments_lexer": "ipython3",
   "version": "3.6.2"
  }
 },
 "nbformat": 4,
 "nbformat_minor": 2
}
