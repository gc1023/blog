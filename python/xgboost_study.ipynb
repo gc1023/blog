{
 "cells": [
  {
   "cell_type": "markdown",
   "metadata": {},
   "source": [
    "# Xgboost 原理与应用\n",
    "\n",
    "---\n",
    "\n",
    "\n",
    "**Xgboost的一些特性：**\n",
    "\n",
    "* 支持GPU加速\n",
    "* 支持并行处理\n",
    "\n",
    "\n",
    "\n",
    "## 参考资料\n",
    "\n",
    "* https://xgboost.readthedocs.io/en/latest/"
   ]
  },
  {
   "cell_type": "markdown",
   "metadata": {},
   "source": [
    "\n",
    "## 参数配置\n",
    "\n",
    "---\n",
    "\n",
    "* https://xgboost.readthedocs.io/en/latest/parameter.html\n",
    "\n",
    "\n"
   ]
  },
  {
   "cell_type": "markdown",
   "metadata": {},
   "source": []
  }
 ],
 "metadata": {
  "kernelspec": {
   "display_name": "Python 3",
   "language": "python",
   "name": "python3"
  },
  "language_info": {
   "codemirror_mode": {
    "name": "ipython",
    "version": 3
   },
   "file_extension": ".py",
   "mimetype": "text/x-python",
   "name": "python",
   "nbconvert_exporter": "python",
   "pygments_lexer": "ipython3",
   "version": "3.6.2"
  }
 },
 "nbformat": 4,
 "nbformat_minor": 2
}
