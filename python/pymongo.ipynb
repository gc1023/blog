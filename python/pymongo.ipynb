{
 "cells": [
  {
   "cell_type": "markdown",
   "metadata": {},
   "source": [
    "# PyMongo\n",
    "\n",
    "---\n",
    "\n",
    "Data in MongoDB is represented (and stored) using JSON-style documents. In PyMongo we use dictionaries to represent documents. \n"
   ]
  },
  {
   "cell_type": "markdown",
   "metadata": {},
   "source": [
    "## Native and cross-platform MongoDB manager\n",
    "* https://robomongo.org/"
   ]
  },
  {
   "cell_type": "code",
   "execution_count": 1,
   "metadata": {
    "collapsed": true
   },
   "outputs": [],
   "source": [
    "import pymongo\n",
    "from pymongo import MongoClient\n",
    "from datetime import datetime"
   ]
  },
  {
   "cell_type": "code",
   "execution_count": 2,
   "metadata": {
    "collapsed": true
   },
   "outputs": [],
   "source": [
    "client = MongoClient('47.100.12.99', 27017)"
   ]
  },
  {
   "cell_type": "markdown",
   "metadata": {},
   "source": [
    "## 数据查询\n",
    "\n",
    "---"
   ]
  },
  {
   "cell_type": "code",
   "execution_count": 3,
   "metadata": {},
   "outputs": [
    {
     "data": {
      "text/plain": [
       "['system.indexes', 'profiles']"
      ]
     },
     "execution_count": 3,
     "metadata": {},
     "output_type": "execute_result"
    }
   ],
   "source": [
    "# 连接数据库\n",
    "db = client.test_database\n",
    "\n",
    "# 获取一个Collection\n",
    "collection = db.test_collection\n",
    "\n",
    "# 查看数据库中的所有Collection名称\n",
    "db.list_collection_names()"
   ]
  },
  {
   "cell_type": "code",
   "execution_count": null,
   "metadata": {
    "collapsed": true
   },
   "outputs": [],
   "source": [
    "# 创建一个名为 posts 的 Collection\n",
    "posts = db.posts\n",
    "\n",
    "# documents\n",
    "post = {\"author\": \"Mike\",\n",
    "        \"text\": \"My first blog post!\",\n",
    "        \"tags\": [\"mongodb\", \"python\", \"pymongo\"],\n",
    "        \"date\": datetime.utcnow()}\n",
    "\n",
    "# 插入一篇文档，获得一个对应的独立id\n",
    "post_id = posts.insert_one(post).inserted_id\n",
    "\n",
    "# 从集合中获取一篇文档\n",
    "# posts.find_one()\n",
    "posts.find_one({\"author\": \"Mike\"})\n",
    "# posts.find_one({\"_id\": post_id})\n",
    "\n",
    "# post_id应该是一个ObjectId对象，不是str\n",
    "from bson.objectid import ObjectId\n",
    "\n",
    "# The web framework gets post_id from the URL and passes it as a string\n",
    "def get(post_id):\n",
    "    # Convert from string to ObjectId:\n",
    "    document = client.db.collection.find_one({'_id': ObjectId(post_id)})\n",
    "    return document"
   ]
  },
  {
   "cell_type": "code",
   "execution_count": null,
   "metadata": {
    "collapsed": true,
    "scrolled": true
   },
   "outputs": [],
   "source": [
    "# 插入多篇文档\n",
    "new_posts = [{\"author\": \"Mike\",\n",
    "\"text\": \"Another post!\",\n",
    " \"tags\": [\"bulk\", \"insert\"],\n",
    "\"date\": datetime(2009, 11, 12, 11, 14)},\n",
    "{\"author\": \"Eliot\",\n",
    "\"title\": \"MongoDB is fun\",\n",
    "\"text\": \"and pretty easy too!\",\n",
    "\"date\": datetime(2009, 11, 10, 10, 45)}]\n",
    "\n",
    "result = posts.insert_many(new_posts)\n",
    "result.inserted_ids"
   ]
  },
  {
   "cell_type": "markdown",
   "metadata": {},
   "source": [
    "## 索引操作\n",
    "---"
   ]
  },
  {
   "cell_type": "code",
   "execution_count": null,
   "metadata": {
    "collapsed": true,
    "scrolled": true
   },
   "outputs": [],
   "source": [
    "# 创建索引， _id_ 是插入文档是自动创建的索引\n",
    "# 在user_id字段上创建索引之后\n",
    "result = db.profiles.create_index([('user_id', pymongo.ASCENDING)], unique=True)\n",
    "sorted(list(db.profiles.index_information()))"
   ]
  },
  {
   "cell_type": "code",
   "execution_count": null,
   "metadata": {
    "collapsed": true
   },
   "outputs": [],
   "source": [
    "# 删除集合\n",
    "db.posts.drop() #是用来从数据库中删除一个集合"
   ]
  },
  {
   "cell_type": "markdown",
   "metadata": {
    "collapsed": true
   },
   "source": [
    "## 参考资料\n",
    "\n",
    "---\n",
    "[MongoDB3.2中插入数据前如何去重](https://segmentfault.com/q/1010000005615722/a-1020000005625988)\n",
    "\n",
    "[MongoDB distinct too big问题](http://forum.foxera.com/mongodb/topic/776/mongodb-distinct-too-big%E9%97%AE%E9%A2%98?un=jerry)"
   ]
  }
 ],
 "metadata": {
  "kernelspec": {
   "display_name": "Python 3",
   "language": "python",
   "name": "python3"
  },
  "language_info": {
   "codemirror_mode": {
    "name": "ipython",
    "version": 3
   },
   "file_extension": ".py",
   "mimetype": "text/x-python",
   "name": "python",
   "nbconvert_exporter": "python",
   "pygments_lexer": "ipython3",
   "version": "3.6.2"
  }
 },
 "nbformat": 4,
 "nbformat_minor": 2
}
